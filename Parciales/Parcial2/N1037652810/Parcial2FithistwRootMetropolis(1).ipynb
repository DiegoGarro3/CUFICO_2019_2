{
  "nbformat": 4,
  "nbformat_minor": 0,
  "metadata": {
    "colab": {
      "name": "Parcial2FithistwRootMetropolis.ipynb",
      "provenance": []
    },
    "kernelspec": {
      "name": "python3",
      "display_name": "Python 3"
    }
  },
  "cells": [
    {
      "cell_type": "code",
      "metadata": {
        "id": "qUNqU9CqFP1-",
        "colab_type": "code",
        "outputId": "ebe4ad48-fdd9-4b04-e046-7a8374e8f9fd",
        "colab": {
          "base_uri": "https://localhost:8080/",
          "height": 321
        }
      },
      "source": [
        "!apt-get install git dpkg-dev cmake g++ gcc binutils libx11-dev libxpm-dev libxft-dev libxext-dev tar gfortran subversion"
      ],
      "execution_count": 7,
      "outputs": [
        {
          "output_type": "stream",
          "text": [
            "Reading package lists... Done\n",
            "Building dependency tree       \n",
            "Reading state information... Done\n",
            "libxext-dev is already the newest version (2:1.3.3-1).\n",
            "libxft-dev is already the newest version (2.3.2-1).\n",
            "libxpm-dev is already the newest version (1:3.5.12-1).\n",
            "subversion is already the newest version (1.9.7-4ubuntu1).\n",
            "binutils is already the newest version (2.30-21ubuntu1~18.04.2).\n",
            "cmake is already the newest version (3.10.2-1ubuntu2.18.04.1).\n",
            "dpkg-dev is already the newest version (1.19.0.5ubuntu2.3).\n",
            "g++ is already the newest version (4:7.4.0-1ubuntu2.3).\n",
            "gcc is already the newest version (4:7.4.0-1ubuntu2.3).\n",
            "gfortran is already the newest version (4:7.4.0-1ubuntu2.3).\n",
            "git is already the newest version (1:2.17.1-1ubuntu0.4).\n",
            "libx11-dev is already the newest version (2:1.6.4-3ubuntu0.2).\n",
            "tar is already the newest version (1.29b-2ubuntu0.1).\n",
            "0 upgraded, 0 newly installed, 0 to remove and 33 not upgraded.\n"
          ],
          "name": "stdout"
        }
      ]
    },
    {
      "cell_type": "code",
      "metadata": {
        "id": "67G6fHMMFUOY",
        "colab_type": "code",
        "outputId": "a8169bce-2769-412b-deb8-b30f870f657a",
        "colab": {
          "base_uri": "https://localhost:8080/",
          "height": 126
        }
      },
      "source": [
        "# Load the Drive helper and mount\n",
        "from google.colab import drive\n",
        "\n",
        "# This will prompt for authorization.\n",
        "drive.mount('/content/drive', force_remount=True)"
      ],
      "execution_count": 8,
      "outputs": [
        {
          "output_type": "stream",
          "text": [
            "Go to this URL in a browser: https://accounts.google.com/o/oauth2/auth?client_id=947318989803-6bn6qk8qdgf4n4g3pfee6491hc0brc4i.apps.googleusercontent.com&redirect_uri=urn%3aietf%3awg%3aoauth%3a2.0%3aoob&response_type=code&scope=email%20https%3a%2f%2fwww.googleapis.com%2fauth%2fdocs.test%20https%3a%2f%2fwww.googleapis.com%2fauth%2fdrive%20https%3a%2f%2fwww.googleapis.com%2fauth%2fdrive.photos.readonly%20https%3a%2f%2fwww.googleapis.com%2fauth%2fpeopleapi.readonly\n",
            "\n",
            "Enter your authorization code:\n",
            "··········\n",
            "Mounted at /content/drive\n"
          ],
          "name": "stdout"
        }
      ]
    },
    {
      "cell_type": "code",
      "metadata": {
        "id": "fXRDbwG-FUg7",
        "colab_type": "code",
        "colab": {}
      },
      "source": [
        "!tar -xf /content/drive/Shared\\ drives/PyROOT_in_Google/root_build_google_yikes.tar"
      ],
      "execution_count": 0,
      "outputs": []
    },
    {
      "cell_type": "code",
      "metadata": {
        "id": "3sttUXCOFUoM",
        "colab_type": "code",
        "colab": {}
      },
      "source": [
        "import sys\n",
        "sys.path.append(\"/content/root_build/\")\n",
        "sys.path.append(\"/content/root_build/bin/\")\n",
        "sys.path.append(\"/content/root_build/include/\")\n",
        "sys.path.append(\"/content/root_build/lib/\")"
      ],
      "execution_count": 0,
      "outputs": []
    },
    {
      "cell_type": "code",
      "metadata": {
        "id": "ofeqGMqYUEJc",
        "colab_type": "code",
        "outputId": "3b6192e5-1b42-40ca-a572-c002ab51b8b2",
        "colab": {
          "base_uri": "https://localhost:8080/",
          "height": 35
        }
      },
      "source": [
        "import ROOT"
      ],
      "execution_count": 12,
      "outputs": [
        {
          "output_type": "stream",
          "text": [
            "Welcome to JupyROOT 6.14/04\n"
          ],
          "name": "stdout"
        }
      ]
    },
    {
      "cell_type": "code",
      "metadata": {
        "id": "iY2q7A5sFUxb",
        "colab_type": "code",
        "colab": {}
      },
      "source": [
        "DataFile = ROOT.TFile(\"/content/drive/Shared drives/PyROOT_in_Google/DatosParcial2/N1037652810.root\",\"read\")\n",
        "DataHisto=DataFile.Get('data')"
      ],
      "execution_count": 0,
      "outputs": []
    },
    {
      "cell_type": "code",
      "metadata": {
        "id": "CIxl77z5RxkK",
        "colab_type": "code",
        "outputId": "e62666a2-7374-40e1-f3ae-9da8d35b823d",
        "colab": {
          "base_uri": "https://localhost:8080/",
          "height": 71
        }
      },
      "source": [
        "from ROOT import TCanvas, TPad, TFormula, TF1, TPaveLabel, TH1F, TFile, TPaveText\n",
        "from ROOT import gROOT, gBenchmark\n",
        "import numpy as np\n",
        "import matplotlib.pyplot as plt\n",
        "#from scipy import integrate\n",
        "from matplotlib import cm\n",
        "\n",
        "Data=ROOT.TChain(\"SystemTree\") #the name of the tree in the root file\n",
        "Data.Add(\"/content/drive/Shared drives/PyROOT_in_Google/DatosParcial2/N1037652810.root\")\n",
        "\n",
        "NumberOfEventsToCheck=Data.GetEntries() #entradas=eventos\n",
        "print(\"We are going to analyze \",NumberOfEventsToCheck, \" events\")\n",
        "\n",
        "DataHist= ROOT.TH1F(\"DataHist\", \"Data Histogram\", 250, 0, 1500) # (bins, from xrange, to xrange) #in 1000 it looks very nice\n",
        "c1 = ROOT.TCanvas( 'c1', 'Histogram display', 100, 10, 700, 900 ) #(,,,height)\n",
        "for entry in Data:\n",
        "  xvalue=entry.x\n",
        "  DataHist.Fill(xvalue)\n",
        "\n",
        "c1.SetFillColor( 15 ) # 0 is white # 15 gray\n",
        "DataHist.Draw()\n",
        "c1.Update()\n",
        "ROOT.gROOT.GetListOfCanvases().Draw()\n",
        "\n",
        "#Second point\n",
        "\n",
        "def IF(t,x,u,c): #integrand\n",
        "  return np.exp(-t)*np.cos(t*((x-u)/c)+2.*t*np.log(t/c)/np.pi)\n",
        "\n",
        "def LandauPDF(x,u,c): #x, mean, standard deviation\"\"\n",
        "  LandInt = ROOT.TMath.Landau(x,u,c,True) \n",
        "  return LandInt\n",
        "\n",
        "\"\"\" \n",
        "def LandauPDF(x,u,c): #x, mean, standard deviation\"\"\n",
        "  I, ErrorI=integrate.quad(IF,0.,np.inf,args=(x,u,c)) #doing the integral\n",
        "  #print(I)\n",
        "  Probxf=I/(np.pi*c)\n",
        "  return Probxf\n",
        "\"\"\"\n",
        "\n",
        "#pdf=LandauPDF(1,2,3)\n",
        "#print(pdf)\n",
        "\n",
        "N=85000 #NumberOfEventsToCheck # where N is also the size of the sample generated with LandauProbabilityDensityFunction\n",
        "a=0\n",
        "b=1500 #histogram shape according to xrange\n",
        "\n",
        "import random \n",
        "#generate random numbers\n",
        "x0=(b-a)*random.random() +a\n",
        "X=[] #distribution to create with metropolis algorithm\n",
        "X.append(x0)\n",
        "\n",
        "\n",
        "while (len(X)<(N)): ###Maybe N has to be changed to get N data points, caus the algorithem reject some of them??\n",
        "  xp=(b-a)*random.random()+a\n",
        "  DeltaS=-np.log(LandauPDF(xp,170.1,1.3)/LandauPDF(X[-1],170.1,1.3)) #xp,initial guess of \"mean\" u according to the data\n",
        "  #condiciones para incluir phi prima\n",
        "  if (DeltaS<0):\n",
        "      xi=xp\n",
        "      X.append(xi)\n",
        "\n",
        "  if (DeltaS>0):\n",
        "      P=LandauPDF(xp,170.1,1.3)/(LandauPDF(X[-1],170.1,1.3))\n",
        "      probv=random.random()\n",
        "      if probv<P:\n",
        "          xi=xp\n",
        "          X.append(xi) \n",
        " \n",
        "#print(len(X))\n",
        "#plt.hist(X,bins=250)\n",
        "#plt.show()\n",
        "\n",
        "\n",
        "#THIRD POINT\n",
        "\n",
        "N=NumberOfEventsToCheck # where N is also the size of the sample generated with LandauProbabilityDensityFunction\n",
        "a=0\n",
        "b=1500 #histogram shape according to xrange\n",
        "\n",
        "import random \n",
        "\n",
        "Mu=np.arange(195,205,1) #random interval the smaller chi squared\n",
        "C=np.arange(40,41,0.1)\n",
        "Samples=[]\n",
        "AllChi2=[]\n",
        "print(len(Mu))\n",
        "\n",
        "\n",
        "#to generate the samples for each ui and ci wiith metropolis algorithm\n",
        "#un=0\n",
        "for ui in Mu:\n",
        "  AllChi2Rows=[] #to store all c for each ui\n",
        "  #un+=1 #contador para el entero de el valor ui, concretamente i para guardar el valor de chi2 correspondiente a ui\n",
        "  for ci in C:\n",
        "      X=[0.]*(N) #the list for each sample generated by metropolis algorithm\n",
        "      #generate random numbers\n",
        "      x0=(b-a)*random.random() +a\n",
        "      X=[] #distribution to create with metropolis algorithm\n",
        "      X.append(x0)\n",
        "      while (len(X)<(N)): ###Maybe N has to be changed to get N data points, caus the algorithem reject some of them??\n",
        "            if (LandauPDF(X[-1],ui,ci)!=0):\n",
        "               xp=(b-a)*random.random()+a\n",
        "               DeltaS=-np.log(LandauPDF(xp,ui,ci)/LandauPDF(X[-1],ui,ci)) #xp,initial guess of \"mean\" u according to the data\n",
        "               #create and fill the tree\n",
        "               #from array import array\n",
        "               #MyTree = ROOT.TTree( 'tree1', 'tree para un par de dados' )\n",
        "               #x1 = array( 'i', [ 0 ] )\n",
        "               #MyTree.Branch( 'x1', x1, 'x1/I' )\n",
        "               #condiciones para incluir phi prima\n",
        "               if (DeltaS<0):\n",
        "                  xi=xp\n",
        "                  X.append(xi)\n",
        "                  #x1[0]=xp #to fill the tree\n",
        "                  #MyTree.Fill()\n",
        "                \n",
        "               if (DeltaS>0):\n",
        "                   P=LandauPDF(xp,ui,ci)/(LandauPDF(X[-1],ui,ci))\n",
        "                   probv=random.random()\n",
        "                   if probv<P:\n",
        "                      xi=xp\n",
        "                      X.append(xi)\n",
        "                      #x1[0]=xp #to fill the tree\n",
        "                      #MyTree.Fill() \n",
        "      Samples.append(X)\n",
        "\n",
        "      #chisquared\n",
        "\n",
        "      chi2=0 #empieza desde 0 para cada valor de u y c que es el parametro\n",
        "      chi2df=0\n",
        "      for l in range(N): #For to calculate Chi Squared (for each ui and ci value)\n",
        "          if (DataHist.GetBinContent(l)!=0):\n",
        "              chi2+=(DataHist.GetBinContent(l)-X[l])**2/DataHist.GetBinContent(l)\n",
        "      #print(chi2)\n",
        "      chi2df=chi2/250 #divided degres of freedem i.e. number of bins\n",
        "      AllChi2Rows.append(chi2df)\n",
        "  AllChi2.append(AllChi2Rows)\n",
        "\n",
        "print(len(Samples))\n",
        "#print(Samples[0])\n",
        "print(len(AllChi2))\n",
        "print(len(AllChi2Rows))\n",
        "#print(AllChi2[0])\n",
        "\n",
        "def Chi2Distr3Df(X,Y): #where x is u and c is y\n",
        "    for xii in range(len(X)):\n",
        "      for yii in range(len(Y)):\n",
        "        #if (AllChi2[xii][yii]!=\"NaN\"):\n",
        "          return AllChi2[xii][yii]\n",
        "\n",
        "from mpl_toolkits.mplot3d import Axes3D\n",
        "fig = plt.figure(3)\n",
        "ax = fig.gca(projection='3d')\n",
        "Mu=np.array(Mu)\n",
        "C=np.array(C)\n",
        "D1Mu=Mu\n",
        "D1C=C\n",
        "print(Mu.shape,C.shape)\n",
        "Mu,C = np.meshgrid(Mu,C)\n",
        "print(Mu.shape,C.shape)\n",
        "AllChi2=np.array(AllChi2)\n",
        "print(AllChi2, len(AllChi2))\n",
        "ax.plot_surface(Mu,C,AllChi2,cmap=cm.coolwarm,\n",
        "                       linewidth=0, antialiased=False)\n",
        "# Add a color bar which maps values to colors.\n",
        "#fig.colorbar(surf, shrink=0.5, aspect=5)\n",
        "ax.set_xlabel('Mu')\n",
        "ax.set_ylabel('C')\n",
        "ax.set_zlabel('Chi Squared')\n",
        "\"\"\"\n",
        "fig = plt.figure(4)\n",
        "ax = fig.gca(projection='3d')\n",
        "Chi2z=Chi2Distr3Df(Mu,C)\n",
        "#print(Chi2Distr3Df(Mu[0],C[0]))\n",
        "#ax.plot_surface(Mu,C,Chi2z)\n",
        "ax.plot_wireframe(Mu,C,AllChi2, rstride=10, cstride=10)\n",
        "fig = plt.figure(5)\n",
        "ax = fig.gca(projection='3d')\n",
        "ax.scatter(Mu,C,AllChi2)\n",
        "\"\"\"\n",
        "plt.show()\n",
        "\n",
        "\n",
        "#the next part is to find the minium chi2 and the corresponding ui and ci\n",
        "Chis2=AllChi2\n",
        "def findindex(AllChi2,X,Y,Min):\n",
        "    for xii in range(len(X)):\n",
        "      for yii in range(len(Y)):\n",
        "        if AllChi2[xii][yii]==Min:\n",
        "        #if (AllChi2[xii][yii]!=\"NaN\"):\n",
        "           #print(ii,jj)\n",
        "           return xii, yii\n",
        "\n",
        "AllChi2=np.reshape(AllChi2,len(Mu)*len(C))\n",
        "Min=min(AllChi2)\n",
        "#pos=AllChi2.index(Min)\n",
        "print(\"minimo de chi^2/ndf\",Min)\n",
        "#print(\"pos\",pos)\n",
        "ii,jj =findindex(Chis2,Mu,C,Min)\n",
        "print(\"valores optimos de ui y ci respectivamente\")\n",
        "print(D1Mu[ii],D1C[jj])\n",
        "\n",
        "\n",
        "#Finally we're gonna create de histogram in the same histograme already made, as done in point 2 but for the best ui and ci \n",
        "#so this could be considered point number 2 with best ui and ci\n",
        "N=85000 #NumberOfEventsToCheck # where N is also the size of the sample generated with LandauProbabilityDensityFunction\n",
        "a=0\n",
        "b=1500 #histogram shape according to xrange\n",
        "\n",
        "import random \n",
        "#generate random numbers\n",
        "x0=(b-a)*random.random() +a\n",
        "X=[] #distribution to create with metropolis algorithm\n",
        "X.append(x0)\n",
        "\n",
        "\n",
        "while (len(X)<(N)): ###Maybe N has to be changed to get N data points, caus the algorithem reject some of them??\n",
        "  xp=(b-a)*random.random()+a\n",
        "  DeltaS=-np.log(LandauPDF(xp,D1Mu[ii],D1C[jj])/LandauPDF(X[-1],D1Mu[ii],D1C[jj])) #xp,initial guess of \"mean\" u according to the data\n",
        "  #condiciones para incluir phi prima\n",
        "  if (DeltaS<0):\n",
        "      xi=xp\n",
        "      X.append(xi)\n",
        "\n",
        "  if (DeltaS>0):\n",
        "      P=LandauPDF(xp,D1Mu[ii],D1C[jj])/(LandauPDF(X[-1],D1Mu[ii],D1C[jj]))\n",
        "      probv=random.random()\n",
        "      if probv<P:\n",
        "          xi=xp\n",
        "          X.append(xi) \n",
        " \n",
        "print(len(X))\n",
        "plt.hist(X,bins=250)\n",
        "plt.show()\n",
        "\n",
        "#The histogram of the landau distribution generated by metropolis algorithm\n",
        "MetropoLandauDistri= ROOT.TH1F(\"MetropoLandauDistri\", \"Metropolis Landau Distribution\", 250, 50, 1500)\n",
        "for j in range(N):\n",
        "  MetropoLandauDistri.Fill(X[j])\n",
        "MetropoLandauDistri.Draw(\"same\")\n",
        "MetropoLandauDistri.SetLineColor(2)\n",
        "c1.Update()\n",
        "ROOT.gROOT.GetListOfCanvases().Draw()"
      ],
      "execution_count": 0,
      "outputs": [
        {
          "output_type": "stream",
          "text": [
            "We are going to analyze  85000  events\n"
          ],
          "name": "stdout"
        },
        {
          "output_type": "stream",
          "text": [
            "/usr/local/lib/python3.6/dist-packages/ipykernel_launcher.py:58: RuntimeWarning: divide by zero encountered in log\n"
          ],
          "name": "stderr"
        },
        {
          "output_type": "stream",
          "text": [
            "10\n"
          ],
          "name": "stdout"
        }
      ]
    },
    {
      "cell_type": "code",
      "metadata": {
        "id": "rG355BTCso_l",
        "colab_type": "code",
        "outputId": "4c600d11-9d87-43a5-bbec-4ea558c49049",
        "colab": {
          "base_uri": "https://localhost:8080/",
          "height": 462
        }
      },
      "source": [
        "from multiprocessing import Process, Value, Array\n",
        "import numpy as np\n",
        "from scipy import integrate \n",
        "import matplotlib.pyplot as plt\n",
        "       \n",
        "def IF(t,x,u,c): #integrand\n",
        "  return np.exp(-t)*np.cos(t*((x-u)/c)+2.*t*np.log(t/c)/np.pi)\n",
        "\n",
        "def LandauPDF(x,u,c): #x, mean, standard deviation\"\"\n",
        "  I = ROOT.TMath.Landau(x,c,u) #doing the integral\n",
        "  #print(I)\n",
        "  Probxf=I #/(np.pi*c)\n",
        "  return Probxf\n",
        "\n",
        "def fuck(u): \n",
        "    N=20000      \n",
        "    a=0\n",
        "    b=1500 #histogram shape according to xrange\n",
        "\n",
        "    import random \n",
        "#generate random numbers\n",
        "    x0=(b-a)*random.random() +a\n",
        "    X=[] #distribution to create with metropolis algorithm\n",
        "    X.append(x0)\n",
        "\n",
        "    contador=0\n",
        "    while (contador<(N-1)): ###Maybe N has to be changed to get N data points, caus the algorithem reject some of them??\n",
        "      xp=(b-a)*random.random()+a\n",
        "      DeltaS=-np.log(LandauPDF(xp,u,50.3)/LandauPDF(X[-1],u,50.3)) #xp,initial guess of \"mean\" u according to the data\n",
        "  #condiciones para incluir phi prima\n",
        "      if (DeltaS<0):\n",
        "          xi=xp\n",
        "          X.append(xi)\n",
        "          contador+=1 \n",
        "\n",
        "      if (DeltaS>0):\n",
        "          P=LandauPDF(xp,u,50.3)/(LandauPDF(X[-1],u,50.3))\n",
        "          probv=random.random()\n",
        "          if probv<P:\n",
        "              xi=xp\n",
        "              X.append(xi) \n",
        "              contador+=1 \n",
        "  \n",
        "\n",
        "    print(len(X))\n",
        "    plt.hist(X,bins=250)\n",
        "    plt.show()\n",
        "fuck(170.1)"
      ],
      "execution_count": 0,
      "outputs": [
        {
          "output_type": "stream",
          "text": [
            "/usr/local/lib/python3.6/dist-packages/ipykernel_launcher.py:10: IntegrationWarning: The maximum number of subdivisions (50) has been achieved.\n",
            "  If increasing the limit yields no improvement it is advised to analyze \n",
            "  the integrand in order to determine the difficulties.  If the position of a \n",
            "  local difficulty can be determined (singularity, discontinuity) one will \n",
            "  probably gain from splitting up the interval and calling the integrator \n",
            "  on the subranges.  Perhaps a special-purpose integrator should be used.\n",
            "  # Remove the CWD from sys.path while we load stuff.\n",
            "/usr/local/lib/python3.6/dist-packages/ipykernel_launcher.py:29: RuntimeWarning: invalid value encountered in log\n",
            "/usr/local/lib/python3.6/dist-packages/ipykernel_launcher.py:10: IntegrationWarning: The integral is probably divergent, or slowly convergent.\n",
            "  # Remove the CWD from sys.path while we load stuff.\n"
          ],
          "name": "stderr"
        },
        {
          "output_type": "stream",
          "text": [
            "20000\n"
          ],
          "name": "stdout"
        },
        {
          "output_type": "display_data",
          "data": {
            "image/png": "[encoded data removed]",
            "text/plain": [
              "<Figure size 432x288 with 1 Axes>"
            ]
          },
          "metadata": {
            "tags": []
          }
        }
      ]
    }
  ]
}